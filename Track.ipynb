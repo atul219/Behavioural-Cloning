{
  "nbformat": 4,
  "nbformat_minor": 0,
  "metadata": {
    "colab": {
      "name": "Track.ipynb",
      "version": "0.3.2",
      "provenance": [],
      "include_colab_link": true
    },
    "kernelspec": {
      "name": "python3",
      "display_name": "Python 3"
    },
    "accelerator": "GPU"
  },
  "cells": [
    {
      "cell_type": "markdown",
      "metadata": {
        "id": "view-in-github",
        "colab_type": "text"
      },
      "source": [
        "<a href=\"https://colab.research.google.com/github/atul219/Track_Detect/blob/master/Track.ipynb\" target=\"_parent\"><img src=\"https://colab.research.google.com/assets/colab-badge.svg\" alt=\"Open In Colab\"/></a>"
      ]
    },
    {
      "metadata": {
        "id": "4ENX201hjeie",
        "colab_type": "code",
        "colab": {
          "base_uri": "https://localhost:8080/",
          "height": 144
        },
        "outputId": "af4d3761-e1ea-4228-87a8-203f149b5e2d"
      },
      "cell_type": "code",
      "source": [
        "# clone data from github\n",
        "!git clone https://github.com/atul219/Track_Detect"
      ],
      "execution_count": 2,
      "outputs": [
        {
          "output_type": "stream",
          "text": [
            "Cloning into 'Track_Detect'...\n",
            "remote: Enumerating objects: 12841, done.\u001b[K\n",
            "remote: Counting objects:   0% (1/12841)   \u001b[K\rremote: Counting objects:   1% (129/12841)   \u001b[K\rremote: Counting objects:   2% (257/12841)   \u001b[K\rremote: Counting objects:   3% (386/12841)   \u001b[K\rremote: Counting objects:   4% (514/12841)   \u001b[K\rremote: Counting objects:   5% (643/12841)   \u001b[K\rremote: Counting objects:   6% (771/12841)   \u001b[K\rremote: Counting objects:   7% (899/12841)   \u001b[K\rremote: Counting objects:   8% (1028/12841)   \u001b[K\rremote: Counting objects:   9% (1156/12841)   \u001b[K\rremote: Counting objects:  10% (1285/12841)   \u001b[K\rremote: Counting objects:  11% (1413/12841)   \u001b[K\rremote: Counting objects:  12% (1541/12841)   \u001b[K\rremote: Counting objects:  13% (1670/12841)   \u001b[K\rremote: Counting objects:  14% (1798/12841)   \u001b[K\rremote: Counting objects:  15% (1927/12841)   \u001b[K\rremote: Counting objects:  16% (2055/12841)   \u001b[K\rremote: Counting objects:  17% (2183/12841)   \u001b[K\rremote: Counting objects:  18% (2312/12841)   \u001b[K\rremote: Counting objects:  19% (2440/12841)   \u001b[K\rremote: Counting objects:  20% (2569/12841)   \u001b[K\rremote: Counting objects:  21% (2697/12841)   \u001b[K\rremote: Counting objects:  22% (2826/12841)   \u001b[K\rremote: Counting objects:  23% (2954/12841)   \u001b[K\rremote: Counting objects:  24% (3082/12841)   \u001b[K\rremote: Counting objects:  25% (3211/12841)   \u001b[K\rremote: Counting objects:  26% (3339/12841)   \u001b[K\rremote: Counting objects:  27% (3468/12841)   \u001b[K\rremote: Counting objects:  28% (3596/12841)   \u001b[K\rremote: Counting objects:  29% (3724/12841)   \u001b[K\rremote: Counting objects:  30% (3853/12841)   \u001b[K\rremote: Counting objects:  31% (3981/12841)   \u001b[K\rremote: Counting objects:  32% (4110/12841)   \u001b[K\rremote: Counting objects:  33% (4238/12841)   \u001b[K\rremote: Counting objects:  34% (4366/12841)   \u001b[K\rremote: Counting objects:  35% (4495/12841)   \u001b[K\rremote: Counting objects:  36% (4623/12841)   \u001b[K\rremote: Counting objects:  37% (4752/12841)   \u001b[K\rremote: Counting objects:  38% (4880/12841)   \u001b[K\rremote: Counting objects:  39% (5008/12841)   \u001b[K\rremote: Counting objects:  40% (5137/12841)   \u001b[K\rremote: Counting objects:  41% (5265/12841)   \u001b[K\rremote: Counting objects:  42% (5394/12841)   \u001b[K\rremote: Counting objects:  43% (5522/12841)   \u001b[K\rremote: Counting objects:  44% (5651/12841)   \u001b[K\rremote: Counting objects:  45% (5779/12841)   \u001b[K\rremote: Counting objects:  46% (5907/12841)   \u001b[K\rremote: Counting objects:  47% (6036/12841)   \u001b[K\rremote: Counting objects:  48% (6164/12841)   \u001b[K\rremote: Counting objects:  49% (6293/12841)   \u001b[K\rremote: Counting objects:  50% (6421/12841)   \u001b[K\rremote: Counting objects:  51% (6549/12841)   \u001b[K\rremote: Counting objects:  52% (6678/12841)   \u001b[K\rremote: Counting objects:  53% (6806/12841)   \u001b[K\rremote: Counting objects:  54% (6935/12841)   \u001b[K\rremote: Counting objects:  55% (7063/12841)   \u001b[K\rremote: Counting objects:  56% (7191/12841)   \u001b[K\rremote: Counting objects:  57% (7320/12841)   \u001b[K\rremote: Counting objects:  58% (7448/12841)   \u001b[K\rremote: Counting objects:  59% (7577/12841)   \u001b[K\rremote: Counting objects:  60% (7705/12841)   \u001b[K\rremote: Counting objects:  61% (7834/12841)   \u001b[K\rremote: Counting objects:  62% (7962/12841)   \u001b[K\rremote: Counting objects:  63% (8090/12841)   \u001b[K\rremote: Counting objects:  64% (8219/12841)   \u001b[K\rremote: Counting objects:  65% (8347/12841)   \u001b[K\rremote: Counting objects:  66% (8476/12841)   \u001b[K\rremote: Counting objects:  67% (8604/12841)   \u001b[K\rremote: Counting objects:  68% (8732/12841)   \u001b[K\rremote: Counting objects:  69% (8861/12841)   \u001b[K\rremote: Counting objects:  70% (8989/12841)   \u001b[K\rremote: Counting objects:  71% (9118/12841)   \u001b[K\rremote: Counting objects:  72% (9246/12841)   \u001b[K\rremote: Counting objects:  73% (9374/12841)   \u001b[K\rremote: Counting objects:  74% (9503/12841)   \u001b[K\rremote: Counting objects:  75% (9631/12841)   \u001b[K\rremote: Counting objects:  76% (9760/12841)   \u001b[K\rremote: Counting objects:  77% (9888/12841)   \u001b[K\rremote: Counting objects:  78% (10016/12841)   \u001b[K\rremote: Counting objects:  79% (10145/12841)   \u001b[K\rremote: Counting objects:  80% (10273/12841)   \u001b[K\rremote: Counting objects:  81% (10402/12841)   \u001b[K\rremote: Counting objects:  82% (10530/12841)   \u001b[K\rremote: Counting objects:  83% (10659/12841)   \u001b[K\rremote: Counting objects:  84% (10787/12841)   \u001b[K\rremote: Counting objects:  85% (10915/12841)   \u001b[K\rremote: Counting objects:  86% (11044/12841)   \u001b[K\rremote: Counting objects:  87% (11172/12841)   \u001b[K\rremote: Counting objects:  88% (11301/12841)   \u001b[K\rremote: Counting objects:  89% (11429/12841)   \u001b[K\rremote: Counting objects:  90% (11557/12841)   \u001b[K\rremote: Counting objects:  91% (11686/12841)   \u001b[K\rremote: Counting objects:  92% (11814/12841)   \u001b[K\rremote: Counting objects:  93% (11943/12841)   \u001b[K\rremote: Counting objects:  94% (12071/12841)   \u001b[K\rremote: Counting objects:  95% (12199/12841)   \u001b[K\rremote: Counting objects:  96% (12328/12841)   \u001b[K\rremote: Counting objects:  97% (12456/12841)   \u001b[K\rremote: Counting objects:  98% (12585/12841)   \u001b[K\rremote: Counting objects:  99% (12713/12841)   \u001b[K\rremote: Counting objects: 100% (12841/12841)   \u001b[K\rremote: Counting objects: 100% (12841/12841), done.\u001b[K\n",
            "remote: Compressing objects: 100% (12841/12841), done.\u001b[K\n",
            "remote: Total 12841 (delta 0), reused 12841 (delta 0), pack-reused 0\u001b[K\n",
            "Receiving objects: 100% (12841/12841), 161.56 MiB | 35.66 MiB/s, done.\n",
            "Checking out files: 100% (12841/12841), done.\n"
          ],
          "name": "stdout"
        }
      ]
    },
    {
      "metadata": {
        "id": "zxUeJQVMlch1",
        "colab_type": "code",
        "colab": {
          "base_uri": "https://localhost:8080/",
          "height": 35
        },
        "outputId": "a953a2cd-9dd3-432d-c627-f83d87296bdd"
      },
      "cell_type": "code",
      "source": [
        "!ls Track_Detect"
      ],
      "execution_count": 10,
      "outputs": [
        {
          "output_type": "stream",
          "text": [
            "driving_log.csv  IMG\n"
          ],
          "name": "stdout"
        }
      ]
    },
    {
      "metadata": {
        "id": "XZN-f_cYkdPn",
        "colab_type": "code",
        "colab": {}
      },
      "cell_type": "code",
      "source": [
        "# libraries\n",
        "import os\n",
        "import numpy as np\n",
        "import matplotlib.pyplot as plt\n",
        "import keras\n",
        "from keras.models import Sequential\n",
        "from keras.optimizers import Adam\n",
        "from keras.layers import Conv2D, MaxPooling2D , Dropout, Flatten , Dense\n",
        "import cv2\n",
        "import pandas as pd\n",
        "import random\n",
        "import ntpath\n",
        "from sklearn.utils import shuffle \n",
        "from sklearn.model_selection import train_test_split"
      ],
      "execution_count": 0,
      "outputs": []
    },
    {
      "metadata": {
        "id": "voR9nRRSkf7i",
        "colab_type": "code",
        "colab": {
          "base_uri": "https://localhost:8080/",
          "height": 573
        },
        "outputId": "19842fcd-4331-4e9d-e8a9-78d660b2772a"
      },
      "cell_type": "code",
      "source": [
        "data_dir = 'Track_Detect'\n",
        "columns = ['center' ,'left' ,'right' ,'steering' ,'throttle' , 'reverse' ,'speed' ]\n",
        "data = pd.read_csv(os.path.join(data_dir , 'driving_log.csv') , names = columns)\n",
        "pd.set_option('display.max_colwidth' , -1)\n",
        "data.head()"
      ],
      "execution_count": 39,
      "outputs": [
        {
          "output_type": "execute_result",
          "data": {
            "text/html": [
              "<div>\n",
              "<style scoped>\n",
              "    .dataframe tbody tr th:only-of-type {\n",
              "        vertical-align: middle;\n",
              "    }\n",
              "\n",
              "    .dataframe tbody tr th {\n",
              "        vertical-align: top;\n",
              "    }\n",
              "\n",
              "    .dataframe thead th {\n",
              "        text-align: right;\n",
              "    }\n",
              "</style>\n",
              "<table border=\"1\" class=\"dataframe\">\n",
              "  <thead>\n",
              "    <tr style=\"text-align: right;\">\n",
              "      <th></th>\n",
              "      <th>center</th>\n",
              "      <th>left</th>\n",
              "      <th>right</th>\n",
              "      <th>steering</th>\n",
              "      <th>throttle</th>\n",
              "      <th>reverse</th>\n",
              "      <th>speed</th>\n",
              "    </tr>\n",
              "  </thead>\n",
              "  <tbody>\n",
              "    <tr>\n",
              "      <th>0</th>\n",
              "      <td>F:\\Artificial_Intelligence\\Machine_Learning\\Machine learning Assignments\\Computer_Vision\\Self_Driving\\Data\\IMG\\center_2019_02_07_01_24_48_752.jpg</td>\n",
              "      <td>F:\\Artificial_Intelligence\\Machine_Learning\\Machine learning Assignments\\Computer_Vision\\Self_Driving\\Data\\IMG\\left_2019_02_07_01_24_48_752.jpg</td>\n",
              "      <td>F:\\Artificial_Intelligence\\Machine_Learning\\Machine learning Assignments\\Computer_Vision\\Self_Driving\\Data\\IMG\\right_2019_02_07_01_24_48_752.jpg</td>\n",
              "      <td>0.0</td>\n",
              "      <td>0.0</td>\n",
              "      <td>0.0</td>\n",
              "      <td>0.000078</td>\n",
              "    </tr>\n",
              "    <tr>\n",
              "      <th>1</th>\n",
              "      <td>F:\\Artificial_Intelligence\\Machine_Learning\\Machine learning Assignments\\Computer_Vision\\Self_Driving\\Data\\IMG\\center_2019_02_07_01_24_48_855.jpg</td>\n",
              "      <td>F:\\Artificial_Intelligence\\Machine_Learning\\Machine learning Assignments\\Computer_Vision\\Self_Driving\\Data\\IMG\\left_2019_02_07_01_24_48_855.jpg</td>\n",
              "      <td>F:\\Artificial_Intelligence\\Machine_Learning\\Machine learning Assignments\\Computer_Vision\\Self_Driving\\Data\\IMG\\right_2019_02_07_01_24_48_855.jpg</td>\n",
              "      <td>0.0</td>\n",
              "      <td>0.0</td>\n",
              "      <td>0.0</td>\n",
              "      <td>0.000079</td>\n",
              "    </tr>\n",
              "    <tr>\n",
              "      <th>2</th>\n",
              "      <td>F:\\Artificial_Intelligence\\Machine_Learning\\Machine learning Assignments\\Computer_Vision\\Self_Driving\\Data\\IMG\\center_2019_02_07_01_24_48_963.jpg</td>\n",
              "      <td>F:\\Artificial_Intelligence\\Machine_Learning\\Machine learning Assignments\\Computer_Vision\\Self_Driving\\Data\\IMG\\left_2019_02_07_01_24_48_963.jpg</td>\n",
              "      <td>F:\\Artificial_Intelligence\\Machine_Learning\\Machine learning Assignments\\Computer_Vision\\Self_Driving\\Data\\IMG\\right_2019_02_07_01_24_48_963.jpg</td>\n",
              "      <td>0.0</td>\n",
              "      <td>0.0</td>\n",
              "      <td>0.0</td>\n",
              "      <td>0.000078</td>\n",
              "    </tr>\n",
              "    <tr>\n",
              "      <th>3</th>\n",
              "      <td>F:\\Artificial_Intelligence\\Machine_Learning\\Machine learning Assignments\\Computer_Vision\\Self_Driving\\Data\\IMG\\center_2019_02_07_01_24_49_066.jpg</td>\n",
              "      <td>F:\\Artificial_Intelligence\\Machine_Learning\\Machine learning Assignments\\Computer_Vision\\Self_Driving\\Data\\IMG\\left_2019_02_07_01_24_49_066.jpg</td>\n",
              "      <td>F:\\Artificial_Intelligence\\Machine_Learning\\Machine learning Assignments\\Computer_Vision\\Self_Driving\\Data\\IMG\\right_2019_02_07_01_24_49_066.jpg</td>\n",
              "      <td>0.0</td>\n",
              "      <td>0.0</td>\n",
              "      <td>0.0</td>\n",
              "      <td>0.000081</td>\n",
              "    </tr>\n",
              "    <tr>\n",
              "      <th>4</th>\n",
              "      <td>F:\\Artificial_Intelligence\\Machine_Learning\\Machine learning Assignments\\Computer_Vision\\Self_Driving\\Data\\IMG\\center_2019_02_07_01_24_49_168.jpg</td>\n",
              "      <td>F:\\Artificial_Intelligence\\Machine_Learning\\Machine learning Assignments\\Computer_Vision\\Self_Driving\\Data\\IMG\\left_2019_02_07_01_24_49_168.jpg</td>\n",
              "      <td>F:\\Artificial_Intelligence\\Machine_Learning\\Machine learning Assignments\\Computer_Vision\\Self_Driving\\Data\\IMG\\right_2019_02_07_01_24_49_168.jpg</td>\n",
              "      <td>0.0</td>\n",
              "      <td>0.0</td>\n",
              "      <td>0.0</td>\n",
              "      <td>0.000078</td>\n",
              "    </tr>\n",
              "  </tbody>\n",
              "</table>\n",
              "</div>"
            ],
            "text/plain": [
              "                                                                                                                                              center  \\\n",
              "0  F:\\Artificial_Intelligence\\Machine_Learning\\Machine learning Assignments\\Computer_Vision\\Self_Driving\\Data\\IMG\\center_2019_02_07_01_24_48_752.jpg   \n",
              "1  F:\\Artificial_Intelligence\\Machine_Learning\\Machine learning Assignments\\Computer_Vision\\Self_Driving\\Data\\IMG\\center_2019_02_07_01_24_48_855.jpg   \n",
              "2  F:\\Artificial_Intelligence\\Machine_Learning\\Machine learning Assignments\\Computer_Vision\\Self_Driving\\Data\\IMG\\center_2019_02_07_01_24_48_963.jpg   \n",
              "3  F:\\Artificial_Intelligence\\Machine_Learning\\Machine learning Assignments\\Computer_Vision\\Self_Driving\\Data\\IMG\\center_2019_02_07_01_24_49_066.jpg   \n",
              "4  F:\\Artificial_Intelligence\\Machine_Learning\\Machine learning Assignments\\Computer_Vision\\Self_Driving\\Data\\IMG\\center_2019_02_07_01_24_49_168.jpg   \n",
              "\n",
              "                                                                                                                                               left  \\\n",
              "0   F:\\Artificial_Intelligence\\Machine_Learning\\Machine learning Assignments\\Computer_Vision\\Self_Driving\\Data\\IMG\\left_2019_02_07_01_24_48_752.jpg   \n",
              "1   F:\\Artificial_Intelligence\\Machine_Learning\\Machine learning Assignments\\Computer_Vision\\Self_Driving\\Data\\IMG\\left_2019_02_07_01_24_48_855.jpg   \n",
              "2   F:\\Artificial_Intelligence\\Machine_Learning\\Machine learning Assignments\\Computer_Vision\\Self_Driving\\Data\\IMG\\left_2019_02_07_01_24_48_963.jpg   \n",
              "3   F:\\Artificial_Intelligence\\Machine_Learning\\Machine learning Assignments\\Computer_Vision\\Self_Driving\\Data\\IMG\\left_2019_02_07_01_24_49_066.jpg   \n",
              "4   F:\\Artificial_Intelligence\\Machine_Learning\\Machine learning Assignments\\Computer_Vision\\Self_Driving\\Data\\IMG\\left_2019_02_07_01_24_49_168.jpg   \n",
              "\n",
              "                                                                                                                                               right  \\\n",
              "0   F:\\Artificial_Intelligence\\Machine_Learning\\Machine learning Assignments\\Computer_Vision\\Self_Driving\\Data\\IMG\\right_2019_02_07_01_24_48_752.jpg   \n",
              "1   F:\\Artificial_Intelligence\\Machine_Learning\\Machine learning Assignments\\Computer_Vision\\Self_Driving\\Data\\IMG\\right_2019_02_07_01_24_48_855.jpg   \n",
              "2   F:\\Artificial_Intelligence\\Machine_Learning\\Machine learning Assignments\\Computer_Vision\\Self_Driving\\Data\\IMG\\right_2019_02_07_01_24_48_963.jpg   \n",
              "3   F:\\Artificial_Intelligence\\Machine_Learning\\Machine learning Assignments\\Computer_Vision\\Self_Driving\\Data\\IMG\\right_2019_02_07_01_24_49_066.jpg   \n",
              "4   F:\\Artificial_Intelligence\\Machine_Learning\\Machine learning Assignments\\Computer_Vision\\Self_Driving\\Data\\IMG\\right_2019_02_07_01_24_49_168.jpg   \n",
              "\n",
              "   steering  throttle  reverse     speed  \n",
              "0  0.0       0.0       0.0      0.000078  \n",
              "1  0.0       0.0       0.0      0.000079  \n",
              "2  0.0       0.0       0.0      0.000078  \n",
              "3  0.0       0.0       0.0      0.000081  \n",
              "4  0.0       0.0       0.0      0.000078  "
            ]
          },
          "metadata": {
            "tags": []
          },
          "execution_count": 39
        }
      ]
    },
    {
      "metadata": {
        "id": "c98jUHNil3J1",
        "colab_type": "code",
        "colab": {}
      },
      "cell_type": "code",
      "source": [
        "# to trim the extra section or path in the colum of cneter , left and right\n",
        "def path_leaf(path):\n",
        "  head , tail = ntpath.split(path)\n",
        "  \n",
        "  return tail\n",
        "\n",
        "data['center'] = data['center'].apply(path_leaf)\n",
        "data['left']= data['left'].apply(path_leaf)\n",
        "data['right'] = data['right'].apply(path_leaf)"
      ],
      "execution_count": 0,
      "outputs": []
    },
    {
      "metadata": {
        "id": "X2bUAZ1znFlY",
        "colab_type": "code",
        "colab": {
          "base_uri": "https://localhost:8080/",
          "height": 226
        },
        "outputId": "b1352354-9573-4a83-c500-113b8ee025ea"
      },
      "cell_type": "code",
      "source": [
        "data.head()"
      ],
      "execution_count": 41,
      "outputs": [
        {
          "output_type": "execute_result",
          "data": {
            "text/html": [
              "<div>\n",
              "<style scoped>\n",
              "    .dataframe tbody tr th:only-of-type {\n",
              "        vertical-align: middle;\n",
              "    }\n",
              "\n",
              "    .dataframe tbody tr th {\n",
              "        vertical-align: top;\n",
              "    }\n",
              "\n",
              "    .dataframe thead th {\n",
              "        text-align: right;\n",
              "    }\n",
              "</style>\n",
              "<table border=\"1\" class=\"dataframe\">\n",
              "  <thead>\n",
              "    <tr style=\"text-align: right;\">\n",
              "      <th></th>\n",
              "      <th>center</th>\n",
              "      <th>left</th>\n",
              "      <th>right</th>\n",
              "      <th>steering</th>\n",
              "      <th>throttle</th>\n",
              "      <th>reverse</th>\n",
              "      <th>speed</th>\n",
              "    </tr>\n",
              "  </thead>\n",
              "  <tbody>\n",
              "    <tr>\n",
              "      <th>0</th>\n",
              "      <td>center_2019_02_07_01_24_48_752.jpg</td>\n",
              "      <td>left_2019_02_07_01_24_48_752.jpg</td>\n",
              "      <td>right_2019_02_07_01_24_48_752.jpg</td>\n",
              "      <td>0.0</td>\n",
              "      <td>0.0</td>\n",
              "      <td>0.0</td>\n",
              "      <td>0.000078</td>\n",
              "    </tr>\n",
              "    <tr>\n",
              "      <th>1</th>\n",
              "      <td>center_2019_02_07_01_24_48_855.jpg</td>\n",
              "      <td>left_2019_02_07_01_24_48_855.jpg</td>\n",
              "      <td>right_2019_02_07_01_24_48_855.jpg</td>\n",
              "      <td>0.0</td>\n",
              "      <td>0.0</td>\n",
              "      <td>0.0</td>\n",
              "      <td>0.000079</td>\n",
              "    </tr>\n",
              "    <tr>\n",
              "      <th>2</th>\n",
              "      <td>center_2019_02_07_01_24_48_963.jpg</td>\n",
              "      <td>left_2019_02_07_01_24_48_963.jpg</td>\n",
              "      <td>right_2019_02_07_01_24_48_963.jpg</td>\n",
              "      <td>0.0</td>\n",
              "      <td>0.0</td>\n",
              "      <td>0.0</td>\n",
              "      <td>0.000078</td>\n",
              "    </tr>\n",
              "    <tr>\n",
              "      <th>3</th>\n",
              "      <td>center_2019_02_07_01_24_49_066.jpg</td>\n",
              "      <td>left_2019_02_07_01_24_49_066.jpg</td>\n",
              "      <td>right_2019_02_07_01_24_49_066.jpg</td>\n",
              "      <td>0.0</td>\n",
              "      <td>0.0</td>\n",
              "      <td>0.0</td>\n",
              "      <td>0.000081</td>\n",
              "    </tr>\n",
              "    <tr>\n",
              "      <th>4</th>\n",
              "      <td>center_2019_02_07_01_24_49_168.jpg</td>\n",
              "      <td>left_2019_02_07_01_24_49_168.jpg</td>\n",
              "      <td>right_2019_02_07_01_24_49_168.jpg</td>\n",
              "      <td>0.0</td>\n",
              "      <td>0.0</td>\n",
              "      <td>0.0</td>\n",
              "      <td>0.000078</td>\n",
              "    </tr>\n",
              "  </tbody>\n",
              "</table>\n",
              "</div>"
            ],
            "text/plain": [
              "                               center                              left  \\\n",
              "0  center_2019_02_07_01_24_48_752.jpg  left_2019_02_07_01_24_48_752.jpg   \n",
              "1  center_2019_02_07_01_24_48_855.jpg  left_2019_02_07_01_24_48_855.jpg   \n",
              "2  center_2019_02_07_01_24_48_963.jpg  left_2019_02_07_01_24_48_963.jpg   \n",
              "3  center_2019_02_07_01_24_49_066.jpg  left_2019_02_07_01_24_49_066.jpg   \n",
              "4  center_2019_02_07_01_24_49_168.jpg  left_2019_02_07_01_24_49_168.jpg   \n",
              "\n",
              "                               right  steering  throttle  reverse     speed  \n",
              "0  right_2019_02_07_01_24_48_752.jpg  0.0       0.0       0.0      0.000078  \n",
              "1  right_2019_02_07_01_24_48_855.jpg  0.0       0.0       0.0      0.000079  \n",
              "2  right_2019_02_07_01_24_48_963.jpg  0.0       0.0       0.0      0.000078  \n",
              "3  right_2019_02_07_01_24_49_066.jpg  0.0       0.0       0.0      0.000081  \n",
              "4  right_2019_02_07_01_24_49_168.jpg  0.0       0.0       0.0      0.000078  "
            ]
          },
          "metadata": {
            "tags": []
          },
          "execution_count": 41
        }
      ]
    },
    {
      "metadata": {
        "id": "KIsXwMQ7nHwH",
        "colab_type": "code",
        "colab": {
          "base_uri": "https://localhost:8080/",
          "height": 365
        },
        "outputId": "71919b6f-3d2f-4078-8c21-fad1501fb0c8"
      },
      "cell_type": "code",
      "source": [
        "# plot steering angle for every image\n",
        "\n",
        "# a) divide the bins\n",
        "num_bins = 25\n",
        "hist , bins = np.histogram(data['steering'] , num_bins)\n",
        "# to center our data\n",
        "center = (bins[:-1] + bins[1:]) * 0.5\n",
        "#print(bins)\n",
        "#print(center)\n",
        "plt.bar(center , hist , width = 0.05)\n"
      ],
      "execution_count": 42,
      "outputs": [
        {
          "output_type": "execute_result",
          "data": {
            "text/plain": [
              "<BarContainer object of 25 artists>"
            ]
          },
          "metadata": {
            "tags": []
          },
          "execution_count": 42
        },
        {
          "output_type": "display_data",
          "data": {
            "image/png": "[encoded data removed]",
            "text/plain": [
              "<Figure size 576x396 with 1 Axes>"
            ]
          },
          "metadata": {
            "tags": []
          }
        }
      ]
    },
    {
      "metadata": {
        "id": "mRtH--IVnrFL",
        "colab_type": "code",
        "colab": {
          "base_uri": "https://localhost:8080/",
          "height": 365
        },
        "outputId": "500de5ef-a7d0-437b-a191-7dc8079baf2b"
      },
      "cell_type": "code",
      "source": [
        "# this will make our network to be bias to drive at center so we will limit this a threshold\n",
        "sample_per_bin = 200\n",
        "plt.bar(center , hist , width = 0.05)\n",
        "plt.plot((np.min(data['steering']) , np.max(data['steering'])), (sample_per_bin , sample_per_bin))"
      ],
      "execution_count": 43,
      "outputs": [
        {
          "output_type": "execute_result",
          "data": {
            "text/plain": [
              "[<matplotlib.lines.Line2D at 0x7f6d6677d4a8>]"
            ]
          },
          "metadata": {
            "tags": []
          },
          "execution_count": 43
        },
        {
          "output_type": "display_data",
          "data": {
            "image/png": "[encoded data removed]",
            "text/plain": [
              "<Figure size 576x396 with 1 Axes>"
            ]
          },
          "metadata": {
            "tags": []
          }
        }
      ]
    },
    {
      "metadata": {
        "id": "PJy_4bcdqJU3",
        "colab_type": "code",
        "colab": {
          "base_uri": "https://localhost:8080/",
          "height": 420
        },
        "outputId": "3e34336c-59bf-491d-9985-012f72d45b50"
      },
      "cell_type": "code",
      "source": [
        "# to remove smaples\n",
        "print(\"Total Data:\" , len(data))\n",
        "remove_list = []\n",
        "for j in range(num_bins):\n",
        "  list_ = []\n",
        "  for i in range(len(data['steering'])):\n",
        "    if data['steering'][i] >= bins[j] and data['steering'][i] <= bins[j+1]:\n",
        "      list_.append(i)\n",
        "  list_ = shuffle(list_)\n",
        "  list_ = list_[sample_per_bin:]\n",
        "  remove_list.extend(list_)\n",
        "    \n",
        "    \n",
        "print('Removed:' , len(remove_list))    \n",
        "data.drop(data.index[remove_list] , inplace = True)\n",
        "      \n",
        "print(\"Remaining Data:\" , len(data))\n",
        "      \n",
        "hist,_ = np.histogram(data['steering'] , (num_bins))\n",
        "plt.bar(center , hist , width = 0.05)\n",
        "plt.plot((np.min(data['steering']) , np.max(data['steering'])), (sample_per_bin , sample_per_bin))"
      ],
      "execution_count": 45,
      "outputs": [
        {
          "output_type": "stream",
          "text": [
            "Total Data: 4280\n",
            "Removed: 3083\n",
            "Remaining Data: 1197\n"
          ],
          "name": "stdout"
        },
        {
          "output_type": "execute_result",
          "data": {
            "text/plain": [
              "[<matplotlib.lines.Line2D at 0x7f6d66649cc0>]"
            ]
          },
          "metadata": {
            "tags": []
          },
          "execution_count": 45
        },
        {
          "output_type": "display_data",
          "data": {
            "image/png": "[encoded data removed]",
            "text/plain": [
              "<Figure size 576x396 with 1 Axes>"
            ]
          },
          "metadata": {
            "tags": []
          }
        }
      ]
    },
    {
      "metadata": {
        "id": "OJkJ9az1tu_J",
        "colab_type": "code",
        "colab": {
          "base_uri": "https://localhost:8080/",
          "height": 162
        },
        "outputId": "488b6a2c-4a99-4f85-cfa0-25c47290a9c6"
      },
      "cell_type": "code",
      "source": [
        "print(data.iloc[1])\n",
        "def load_img_steering(data_dir , df):\n",
        "  img_path = []\n",
        "  steering = []\n",
        "  \n",
        "  for i in range(len(data)):\n",
        "    indexed_data = data.iloc[i]\n",
        "    center , left , right = indexed_data[0] ,indexed_data[1] ,indexed_data[2]\n",
        "    img_path.append(os.path.join(data_dir , center.strip()))\n",
        "    steering.append(float(indexed_data[3]))\n",
        "  \n",
        "  img_path = np.asarray(img_path)\n",
        "  steering = np.asarray(steering)\n",
        "  \n",
        "  return img_path , steering\n",
        "\n",
        "img_path , steering = load_img_steering(data_dir + '/IMG' , data)"
      ],
      "execution_count": 52,
      "outputs": [
        {
          "output_type": "stream",
          "text": [
            "center      center_2019_02_07_01_24_49_066.jpg\n",
            "left        left_2019_02_07_01_24_49_066.jpg  \n",
            "right       right_2019_02_07_01_24_49_066.jpg \n",
            "steering    0                                 \n",
            "throttle    0                                 \n",
            "reverse     0                                 \n",
            "speed       8.12126e-05                       \n",
            "Name: 3, dtype: object\n"
          ],
          "name": "stdout"
        }
      ]
    },
    {
      "metadata": {
        "id": "jSpov037wG5X",
        "colab_type": "code",
        "colab": {}
      },
      "cell_type": "code",
      "source": [
        "X_train, X_val ,y_train , y_val =  train_test_split(img_path , steering , test_size = 0.2 , random_state = 6)"
      ],
      "execution_count": 0,
      "outputs": []
    },
    {
      "metadata": {
        "id": "TvDM4Xv9yQuK",
        "colab_type": "code",
        "colab": {
          "base_uri": "https://localhost:8080/",
          "height": 318
        },
        "outputId": "1c7485af-5ca7-403e-97f0-3960fbed9c76"
      },
      "cell_type": "code",
      "source": [
        "fig , axis = plt.subplots(1,2 , figsize = (12,4))\n",
        "axis[0].hist(y_train , bins = num_bins , width = 0.05 , color = \"red\")\n",
        "axis[0].set_title(\"Training Set\")\n",
        "axis[1].hist(y_val , bins = num_bins , width = 0.05 , color = \"Blue\")\n",
        "axis[1].set_title(\"Validation Set\")"
      ],
      "execution_count": 66,
      "outputs": [
        {
          "output_type": "execute_result",
          "data": {
            "text/plain": [
              "Text(0.5, 1.0, 'Validation Set')"
            ]
          },
          "metadata": {
            "tags": []
          },
          "execution_count": 66
        },
        {
          "output_type": "display_data",
          "data": {
            "image/png": "[encoded data removed]",
            "text/plain": [
              "<Figure size 864x288 with 2 Axes>"
            ]
          },
          "metadata": {
            "tags": []
          }
        }
      ]
    },
    {
      "metadata": {
        "id": "xZJPEmAZzvgg",
        "colab_type": "code",
        "colab": {}
      },
      "cell_type": "code",
      "source": [
        ""
      ],
      "execution_count": 0,
      "outputs": []
    }
  ]
}